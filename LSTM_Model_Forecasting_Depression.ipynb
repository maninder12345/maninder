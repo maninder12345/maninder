{
  "cells": [
    {
      "cell_type": "markdown",
      "source": [
        "# LSTM Model"
      ],
      "metadata": {
        "id": "2w4ixQqQJJpG"
      }
    },
    {
      "cell_type": "markdown",
      "metadata": {
        "id": "YgiPSGzJ5OKd"
      },
      "source": [
        "### Importing Libraries"
      ]
    },
    {
      "cell_type": "code",
      "execution_count": null,
      "metadata": {
        "colab": {
          "base_uri": "https://localhost:8080/"
        },
        "id": "WHqMQvR85WvC",
        "outputId": "8440e90c-b1cd-4e7b-e0e2-d0c840a5f1cd"
      },
      "outputs": [
        {
          "output_type": "stream",
          "name": "stdout",
          "text": [
            "Mounted at /content/drive\n"
          ]
        }
      ],
      "source": [
        "from google.colab import drive\n",
        "drive.mount('/content/drive')"
      ]
    },
    {
      "cell_type": "code",
      "execution_count": null,
      "metadata": {
        "id": "lpgSQ9U15OKf"
      },
      "outputs": [],
      "source": [
        "from keras.layers import Dense\n",
        "from keras.layers import LSTM\n",
        "from keras.models import Sequential\n",
        "from keras.optimizers import Adam\n",
        "from keras.preprocessing import sequence\n",
        "\n",
        "\n",
        "import numpy as np\n",
        "import os\n",
        "import pandas as pd\n",
        "\n",
        "\n",
        "import plotly.express as px\n",
        "import plotly.graph_objs as go\n",
        "\n",
        "\n",
        "import seaborn as sns\n",
        "from sklearn.metrics import confusion_matrix\n",
        "from sklearn.metrics import precision_score\n",
        "from sklearn.metrics import accuracy_score, recall_score, average_precision_score\n",
        "\n",
        "from sklearn.model_selection import train_test_split\n",
        "\n",
        "import tensorflow as tf"
      ]
    },
    {
      "cell_type": "markdown",
      "metadata": {
        "id": "ngH9YvAI5OKg"
      },
      "source": [
        "### Data Pre Processing"
      ]
    },
    {
      "cell_type": "code",
      "execution_count": null,
      "metadata": {
        "id": "8zMt986K5OKg"
      },
      "outputs": [],
      "source": [
        "ConditionGroupFileNames = os.listdir('/content/drive/My Drive/depression_data/condition')\n",
        "ControlGroupFileNames = os.listdir('/content/drive/My Drive/depression_data/control')"
      ]
    },
    {
      "cell_type": "code",
      "execution_count": null,
      "metadata": {
        "id": "1x1IZ2Jp5OKh"
      },
      "outputs": [],
      "source": [
        "X = []\n",
        "y = []\n",
        "for fileName in ConditionGroupFileNames:\n",
        "    df = pd.read_csv('/content/drive/My Drive/depression_data/condition/'+str(fileName))\n",
        "#     print(df)\n",
        "    dates = df['date'].unique()\n",
        "#     print(dates)\n",
        "    activityLevelsPerDay = []\n",
        "    for date in dates:\n",
        "        if len(df[df['date']==date]) == 1440:\n",
        "            temp = pd.DataFrame(df[df['date']==date]).drop(columns=['timestamp','date'])\n",
        "            activityLevelsPerDay.append(temp)\n",
        "    for dailyActivityLevel in activityLevelsPerDay:\n",
        "        activityVector = np.array(dailyActivityLevel[\"activity\"])\n",
        "        if len(activityVector) == 1440:\n",
        "            X.append(activityVector)\n",
        "            y.append(1)"
      ]
    },
    {
      "cell_type": "code",
      "execution_count": null,
      "metadata": {
        "id": "M5L4J4A65OKi"
      },
      "outputs": [],
      "source": [
        "for fileName in ControlGroupFileNames:\n",
        "    df = pd.read_csv('/content/drive/My Drive/depression_data/control/'+str(fileName))\n",
        "    dates = df['date'].unique()\n",
        "    activityLevelsPerDay = []\n",
        "    for date in dates:\n",
        "        if len(df[df['date']==date]) == 1440:\n",
        "            temp = pd.DataFrame(df[df['date']==date]).drop(columns=['timestamp','date'])\n",
        "            activityLevelsPerDay.append(temp)\n",
        "    for dailyActivityLevel in activityLevelsPerDay:\n",
        "        activityVector = np.array(dailyActivityLevel[\"activity\"])\n",
        "        if len(activityVector) == 1440:\n",
        "            X.append(activityVector)\n",
        "            y.append(0)"
      ]
    },
    {
      "cell_type": "code",
      "execution_count": null,
      "metadata": {
        "id": "rtHLvfz2eP6D"
      },
      "outputs": [],
      "source": [
        "X = np.array(X)\n",
        "y = np.array(y)"
      ]
    },
    {
      "cell_type": "code",
      "execution_count": null,
      "metadata": {
        "colab": {
          "base_uri": "https://localhost:8080/"
        },
        "id": "VUIosztKdbcG",
        "outputId": "2dd561a4-b80e-4573-c4d2-13e96acf23d8"
      },
      "outputs": [
        {
          "output_type": "execute_result",
          "data": {
            "text/plain": [
              "(670, 359)"
            ]
          },
          "metadata": {},
          "execution_count": 7
        }
      ],
      "source": [
        "# Non Depressed Class and Depressed Class\n",
        "sum(y==0), sum(y==1)"
      ]
    },
    {
      "cell_type": "code",
      "execution_count": null,
      "metadata": {
        "id": "dn6CKRMq67QU"
      },
      "outputs": [],
      "source": [
        "X_train, X_test, y_train, y_test = train_test_split(X, y, test_size=0.2, random_state=42)\n",
        "X_train, X_val, y_train, y_val = train_test_split(X, y, test_size=0.1, random_state=42)"
      ]
    },
    {
      "cell_type": "code",
      "execution_count": null,
      "metadata": {
        "id": "z8aYoAhP8FLs"
      },
      "outputs": [],
      "source": [
        "X_train = np.array(X_train)\n",
        "X_test = np.array(X_test)\n",
        "y_train = np.array(y_train)\n",
        "y_test = np.array(y_test)\n",
        "X_val = np.array(X_val)\n",
        "y_val = np.array(y_val)"
      ]
    },
    {
      "cell_type": "code",
      "execution_count": null,
      "metadata": {
        "id": "yD2y1Fzd6u1e"
      },
      "outputs": [],
      "source": [
        "seq_len = 1440"
      ]
    },
    {
      "cell_type": "code",
      "execution_count": null,
      "metadata": {
        "id": "R3Z6ce6M6f9p"
      },
      "outputs": [],
      "source": [
        "model = Sequential()\n",
        "model.add(LSTM(256, input_shape=( 1,seq_len), return_sequences=True))\n",
        "model.add(LSTM(256, return_sequences=True))\n",
        "model.add(LSTM(256, return_sequences=True))\n",
        "model.add(LSTM(256, return_sequences=True))\n",
        "model.add(LSTM(128))\n",
        "model.add(Dense(1, activation='relu'))"
      ]
    },
    {
      "cell_type": "code",
      "execution_count": null,
      "metadata": {
        "colab": {
          "base_uri": "https://localhost:8080/"
        },
        "id": "zwtg3XeA6wwZ",
        "outputId": "d624c68e-4ac6-42c2-e7f0-995345af4591"
      },
      "outputs": [
        {
          "output_type": "stream",
          "name": "stdout",
          "text": [
            "Model: \"sequential\"\n",
            "_________________________________________________________________\n",
            " Layer (type)                Output Shape              Param #   \n",
            "=================================================================\n",
            " lstm (LSTM)                 (None, 1, 256)            1737728   \n",
            "                                                                 \n",
            " lstm_1 (LSTM)               (None, 1, 256)            525312    \n",
            "                                                                 \n",
            " lstm_2 (LSTM)               (None, 1, 256)            525312    \n",
            "                                                                 \n",
            " lstm_3 (LSTM)               (None, 1, 256)            525312    \n",
            "                                                                 \n",
            " lstm_4 (LSTM)               (None, 128)               197120    \n",
            "                                                                 \n",
            " dense (Dense)               (None, 1)                 129       \n",
            "                                                                 \n",
            "=================================================================\n",
            "Total params: 3,510,913\n",
            "Trainable params: 3,510,913\n",
            "Non-trainable params: 0\n",
            "_________________________________________________________________\n"
          ]
        }
      ],
      "source": [
        "model.summary()"
      ]
    },
    {
      "cell_type": "code",
      "execution_count": null,
      "metadata": {
        "id": "ot6Agvm_6z0D"
      },
      "outputs": [],
      "source": [
        "adam = Adam(learning_rate=0.001)\n",
        "model.compile(loss='binary_crossentropy', optimizer=adam, metrics=['accuracy'])"
      ]
    },
    {
      "cell_type": "code",
      "execution_count": null,
      "metadata": {
        "colab": {
          "base_uri": "https://localhost:8080/"
        },
        "id": "oI80YzvG7Z-4",
        "outputId": "dc30a2fa-32da-46d4-afb4-fc875267d1a2"
      },
      "outputs": [
        {
          "output_type": "stream",
          "name": "stdout",
          "text": [
            "Epoch 1/50\n",
            "8/8 [==============================] - 13s 569ms/step - loss: 1.7910 - accuracy: 0.6523 - val_loss: 1.1209 - val_accuracy: 0.6408\n",
            "Epoch 2/50\n",
            "8/8 [==============================] - 1s 90ms/step - loss: 0.9108 - accuracy: 0.6523 - val_loss: 0.7265 - val_accuracy: 0.6408\n",
            "Epoch 3/50\n",
            "8/8 [==============================] - 1s 73ms/step - loss: 0.6490 - accuracy: 0.6317 - val_loss: 0.6622 - val_accuracy: 0.6505\n",
            "Epoch 4/50\n",
            "8/8 [==============================] - 1s 75ms/step - loss: 0.6100 - accuracy: 0.6469 - val_loss: 0.6554 - val_accuracy: 0.6408\n",
            "Epoch 5/50\n",
            "8/8 [==============================] - 1s 81ms/step - loss: 0.5954 - accuracy: 0.6652 - val_loss: 0.6174 - val_accuracy: 0.6602\n",
            "Epoch 6/50\n",
            "8/8 [==============================] - 1s 75ms/step - loss: 0.5756 - accuracy: 0.6631 - val_loss: 0.6331 - val_accuracy: 0.6311\n",
            "Epoch 7/50\n",
            "8/8 [==============================] - 1s 81ms/step - loss: 0.5479 - accuracy: 0.6998 - val_loss: 0.6494 - val_accuracy: 0.6311\n",
            "Epoch 8/50\n",
            "8/8 [==============================] - 1s 78ms/step - loss: 0.5502 - accuracy: 0.6976 - val_loss: 0.7042 - val_accuracy: 0.5534\n",
            "Epoch 9/50\n",
            "8/8 [==============================] - 1s 74ms/step - loss: 0.5541 - accuracy: 0.7073 - val_loss: 0.6728 - val_accuracy: 0.6311\n",
            "Epoch 10/50\n",
            "8/8 [==============================] - 1s 73ms/step - loss: 0.5535 - accuracy: 0.6814 - val_loss: 0.6934 - val_accuracy: 0.5728\n",
            "Epoch 11/50\n",
            "8/8 [==============================] - 1s 76ms/step - loss: 0.5440 - accuracy: 0.7052 - val_loss: 0.9888 - val_accuracy: 0.6214\n",
            "Epoch 12/50\n",
            "8/8 [==============================] - 1s 73ms/step - loss: 0.5611 - accuracy: 0.7181 - val_loss: 0.7536 - val_accuracy: 0.5922\n",
            "Epoch 13/50\n",
            "8/8 [==============================] - 1s 72ms/step - loss: 0.5402 - accuracy: 0.7052 - val_loss: 0.7257 - val_accuracy: 0.6214\n",
            "Epoch 14/50\n",
            "8/8 [==============================] - 1s 75ms/step - loss: 0.5368 - accuracy: 0.7203 - val_loss: 0.7048 - val_accuracy: 0.6214\n",
            "Epoch 15/50\n",
            "8/8 [==============================] - 1s 72ms/step - loss: 0.5207 - accuracy: 0.7214 - val_loss: 0.7376 - val_accuracy: 0.5631\n",
            "Epoch 16/50\n",
            "8/8 [==============================] - 1s 74ms/step - loss: 0.5349 - accuracy: 0.7149 - val_loss: 0.8191 - val_accuracy: 0.5825\n",
            "Epoch 17/50\n",
            "8/8 [==============================] - 1s 75ms/step - loss: 0.5393 - accuracy: 0.7225 - val_loss: 0.9457 - val_accuracy: 0.6019\n",
            "Epoch 18/50\n",
            "8/8 [==============================] - 1s 82ms/step - loss: 0.5428 - accuracy: 0.6998 - val_loss: 0.8860 - val_accuracy: 0.6117\n",
            "Epoch 19/50\n",
            "8/8 [==============================] - 1s 125ms/step - loss: 0.5314 - accuracy: 0.7171 - val_loss: 1.0927 - val_accuracy: 0.6408\n",
            "Epoch 20/50\n",
            "8/8 [==============================] - 1s 123ms/step - loss: 0.5010 - accuracy: 0.7581 - val_loss: 0.9224 - val_accuracy: 0.6311\n",
            "Epoch 21/50\n",
            "8/8 [==============================] - 1s 124ms/step - loss: 0.5036 - accuracy: 0.7279 - val_loss: 0.9089 - val_accuracy: 0.6602\n",
            "Epoch 22/50\n",
            "8/8 [==============================] - 1s 116ms/step - loss: 0.5116 - accuracy: 0.7343 - val_loss: 0.9482 - val_accuracy: 0.6117\n",
            "Epoch 23/50\n",
            "8/8 [==============================] - 1s 85ms/step - loss: 0.5001 - accuracy: 0.7235 - val_loss: 0.9814 - val_accuracy: 0.5922\n",
            "Epoch 24/50\n",
            "8/8 [==============================] - 1s 74ms/step - loss: 0.4941 - accuracy: 0.7387 - val_loss: 1.0073 - val_accuracy: 0.6117\n",
            "Epoch 25/50\n",
            "8/8 [==============================] - 1s 76ms/step - loss: 0.4951 - accuracy: 0.7333 - val_loss: 1.0983 - val_accuracy: 0.6408\n",
            "Epoch 26/50\n",
            "8/8 [==============================] - 1s 73ms/step - loss: 0.5228 - accuracy: 0.7451 - val_loss: 1.1585 - val_accuracy: 0.6214\n",
            "Epoch 27/50\n",
            "8/8 [==============================] - 1s 74ms/step - loss: 0.4946 - accuracy: 0.7376 - val_loss: 1.4158 - val_accuracy: 0.6214\n",
            "Epoch 28/50\n",
            "8/8 [==============================] - 1s 70ms/step - loss: 0.5354 - accuracy: 0.7127 - val_loss: 0.8101 - val_accuracy: 0.6311\n",
            "Epoch 29/50\n",
            "8/8 [==============================] - 1s 72ms/step - loss: 0.5375 - accuracy: 0.7235 - val_loss: 0.8366 - val_accuracy: 0.5825\n",
            "Epoch 30/50\n",
            "8/8 [==============================] - 1s 70ms/step - loss: 0.5104 - accuracy: 0.7214 - val_loss: 0.8203 - val_accuracy: 0.6214\n",
            "Epoch 31/50\n",
            "8/8 [==============================] - 1s 74ms/step - loss: 0.4951 - accuracy: 0.7419 - val_loss: 1.2353 - val_accuracy: 0.5437\n",
            "Epoch 32/50\n",
            "8/8 [==============================] - 1s 75ms/step - loss: 0.4951 - accuracy: 0.7365 - val_loss: 1.1910 - val_accuracy: 0.6505\n",
            "Epoch 33/50\n",
            "8/8 [==============================] - 1s 73ms/step - loss: 0.5523 - accuracy: 0.7235 - val_loss: 1.3872 - val_accuracy: 0.6505\n",
            "Epoch 34/50\n",
            "8/8 [==============================] - 1s 73ms/step - loss: 0.5746 - accuracy: 0.6911 - val_loss: 0.7099 - val_accuracy: 0.6019\n",
            "Epoch 35/50\n",
            "8/8 [==============================] - 1s 73ms/step - loss: 0.5350 - accuracy: 0.7300 - val_loss: 0.9645 - val_accuracy: 0.6311\n",
            "Epoch 36/50\n",
            "8/8 [==============================] - 1s 73ms/step - loss: 0.5159 - accuracy: 0.7333 - val_loss: 0.9645 - val_accuracy: 0.6214\n",
            "Epoch 37/50\n",
            "8/8 [==============================] - 1s 74ms/step - loss: 0.4976 - accuracy: 0.7235 - val_loss: 1.0749 - val_accuracy: 0.6796\n",
            "Epoch 38/50\n",
            "8/8 [==============================] - 1s 75ms/step - loss: 0.6573 - accuracy: 0.7171 - val_loss: 1.7981 - val_accuracy: 0.5631\n",
            "Epoch 39/50\n",
            "8/8 [==============================] - 1s 79ms/step - loss: 0.6435 - accuracy: 0.7073 - val_loss: 0.7810 - val_accuracy: 0.6408\n",
            "Epoch 40/50\n",
            "8/8 [==============================] - 1s 110ms/step - loss: 0.6828 - accuracy: 0.6652 - val_loss: 0.7342 - val_accuracy: 0.6408\n",
            "Epoch 41/50\n",
            "8/8 [==============================] - 1s 122ms/step - loss: 0.5943 - accuracy: 0.6793 - val_loss: 0.7133 - val_accuracy: 0.6505\n",
            "Epoch 42/50\n",
            "8/8 [==============================] - 1s 123ms/step - loss: 0.5768 - accuracy: 0.6955 - val_loss: 0.6701 - val_accuracy: 0.5922\n",
            "Epoch 43/50\n",
            "8/8 [==============================] - 1s 116ms/step - loss: 0.5596 - accuracy: 0.6836 - val_loss: 0.6743 - val_accuracy: 0.6117\n",
            "Epoch 44/50\n",
            "8/8 [==============================] - 1s 108ms/step - loss: 0.5491 - accuracy: 0.6814 - val_loss: 0.6542 - val_accuracy: 0.6408\n",
            "Epoch 45/50\n",
            "8/8 [==============================] - 1s 73ms/step - loss: 0.5499 - accuracy: 0.7160 - val_loss: 0.6866 - val_accuracy: 0.6117\n",
            "Epoch 46/50\n",
            "8/8 [==============================] - 1s 70ms/step - loss: 0.5409 - accuracy: 0.7052 - val_loss: 0.6544 - val_accuracy: 0.6311\n",
            "Epoch 47/50\n",
            "8/8 [==============================] - 1s 74ms/step - loss: 0.5344 - accuracy: 0.6965 - val_loss: 0.6543 - val_accuracy: 0.6311\n",
            "Epoch 48/50\n",
            "8/8 [==============================] - 1s 71ms/step - loss: 0.5184 - accuracy: 0.7279 - val_loss: 0.8414 - val_accuracy: 0.6214\n",
            "Epoch 49/50\n",
            "8/8 [==============================] - 1s 74ms/step - loss: 0.5107 - accuracy: 0.7246 - val_loss: 1.0670 - val_accuracy: 0.6408\n",
            "Epoch 50/50\n",
            "8/8 [==============================] - 1s 75ms/step - loss: 0.4974 - accuracy: 0.7441 - val_loss: 1.0725 - val_accuracy: 0.6117\n"
          ]
        }
      ],
      "source": [
        "history = model.fit(X_train.reshape(-1, 1, 1440), y_train, epochs=50, batch_size=128, validation_data=(X_val.reshape(-1, 1, 1440),y_val))"
      ]
    },
    {
      "cell_type": "code",
      "execution_count": null,
      "metadata": {
        "colab": {
          "base_uri": "https://localhost:8080/",
          "height": 542
        },
        "id": "8nuvpmAe4V3e",
        "outputId": "f019607b-422c-4b43-fdb9-b11c8876801d"
      },
      "outputs": [
        {
          "output_type": "display_data",
          "data": {
            "text/html": [
              "<html>\n",
              "<head><meta charset=\"utf-8\" /></head>\n",
              "<body>\n",
              "    <div>            <script src=\"https://cdnjs.cloudflare.com/ajax/libs/mathjax/2.7.5/MathJax.js?config=TeX-AMS-MML_SVG\"></script><script type=\"text/javascript\">if (window.MathJax && window.MathJax.Hub && window.MathJax.Hub.Config) {window.MathJax.Hub.Config({SVG: {font: \"STIX-Web\"}});}</script>                <script type=\"text/javascript\">window.PlotlyConfig = {MathJaxConfig: 'local'};</script>\n",
              "        <script src=\"https://cdn.plot.ly/plotly-2.18.2.min.js\"></script>                <div id=\"ae9e462b-49b4-4c31-9822-9a2ff14ce4ad\" class=\"plotly-graph-div\" style=\"height:525px; width:100%;\"></div>            <script type=\"text/javascript\">                                    window.PLOTLYENV=window.PLOTLYENV || {};                                    if (document.getElementById(\"ae9e462b-49b4-4c31-9822-9a2ff14ce4ad\")) {                    Plotly.newPlot(                        \"ae9e462b-49b4-4c31-9822-9a2ff14ce4ad\",                        [{\"mode\":\"lines\",\"name\":\"lines\",\"y\":[0.6522678136825562,0.6522678136825562,0.6317494511604309,0.6468682289123535,0.6652267575263977,0.6630669832229614,0.6997840404510498,0.6976242065429688,0.7073433995246887,0.6814255118370056,0.7051835656166077,0.718142569065094,0.7051835656166077,0.720302402973175,0.7213822603225708,0.7149028182029724,0.7224621772766113,0.6997840404510498,0.7170626521110535,0.758099377155304,0.727861762046814,0.7343412637710571,0.7235420942306519,0.7386609315872192,0.7332613468170166,0.7451403737068176,0.7375810146331787,0.7127429842948914,0.7235420942306519,0.7213822603225708,0.741900622844696,0.7365010976791382,0.7235420942306519,0.6911447048187256,0.730021595954895,0.7332613468170166,0.7235420942306519,0.7170626521110535,0.7073433995246887,0.6652267575263977,0.6792656779289246,0.6954643726348877,0.6835852861404419,0.6814255118370056,0.7159827351570129,0.7051835656166077,0.6965442895889282,0.727861762046814,0.7246220111846924,0.7440604567527771],\"type\":\"scatter\"}],                        {\"template\":{\"data\":{\"barpolar\":[{\"marker\":{\"line\":{\"color\":\"white\",\"width\":0.5},\"pattern\":{\"fillmode\":\"overlay\",\"size\":10,\"solidity\":0.2}},\"type\":\"barpolar\"}],\"bar\":[{\"error_x\":{\"color\":\"rgb(36,36,36)\"},\"error_y\":{\"color\":\"rgb(36,36,36)\"},\"marker\":{\"line\":{\"color\":\"white\",\"width\":0.5},\"pattern\":{\"fillmode\":\"overlay\",\"size\":10,\"solidity\":0.2}},\"type\":\"bar\"}],\"carpet\":[{\"aaxis\":{\"endlinecolor\":\"rgb(36,36,36)\",\"gridcolor\":\"white\",\"linecolor\":\"white\",\"minorgridcolor\":\"white\",\"startlinecolor\":\"rgb(36,36,36)\"},\"baxis\":{\"endlinecolor\":\"rgb(36,36,36)\",\"gridcolor\":\"white\",\"linecolor\":\"white\",\"minorgridcolor\":\"white\",\"startlinecolor\":\"rgb(36,36,36)\"},\"type\":\"carpet\"}],\"choropleth\":[{\"colorbar\":{\"outlinewidth\":1,\"tickcolor\":\"rgb(36,36,36)\",\"ticks\":\"outside\"},\"type\":\"choropleth\"}],\"contourcarpet\":[{\"colorbar\":{\"outlinewidth\":1,\"tickcolor\":\"rgb(36,36,36)\",\"ticks\":\"outside\"},\"type\":\"contourcarpet\"}],\"contour\":[{\"colorbar\":{\"outlinewidth\":1,\"tickcolor\":\"rgb(36,36,36)\",\"ticks\":\"outside\"},\"colorscale\":[[0.0,\"#440154\"],[0.1111111111111111,\"#482878\"],[0.2222222222222222,\"#3e4989\"],[0.3333333333333333,\"#31688e\"],[0.4444444444444444,\"#26828e\"],[0.5555555555555556,\"#1f9e89\"],[0.6666666666666666,\"#35b779\"],[0.7777777777777778,\"#6ece58\"],[0.8888888888888888,\"#b5de2b\"],[1.0,\"#fde725\"]],\"type\":\"contour\"}],\"heatmapgl\":[{\"colorbar\":{\"outlinewidth\":1,\"tickcolor\":\"rgb(36,36,36)\",\"ticks\":\"outside\"},\"colorscale\":[[0.0,\"#440154\"],[0.1111111111111111,\"#482878\"],[0.2222222222222222,\"#3e4989\"],[0.3333333333333333,\"#31688e\"],[0.4444444444444444,\"#26828e\"],[0.5555555555555556,\"#1f9e89\"],[0.6666666666666666,\"#35b779\"],[0.7777777777777778,\"#6ece58\"],[0.8888888888888888,\"#b5de2b\"],[1.0,\"#fde725\"]],\"type\":\"heatmapgl\"}],\"heatmap\":[{\"colorbar\":{\"outlinewidth\":1,\"tickcolor\":\"rgb(36,36,36)\",\"ticks\":\"outside\"},\"colorscale\":[[0.0,\"#440154\"],[0.1111111111111111,\"#482878\"],[0.2222222222222222,\"#3e4989\"],[0.3333333333333333,\"#31688e\"],[0.4444444444444444,\"#26828e\"],[0.5555555555555556,\"#1f9e89\"],[0.6666666666666666,\"#35b779\"],[0.7777777777777778,\"#6ece58\"],[0.8888888888888888,\"#b5de2b\"],[1.0,\"#fde725\"]],\"type\":\"heatmap\"}],\"histogram2dcontour\":[{\"colorbar\":{\"outlinewidth\":1,\"tickcolor\":\"rgb(36,36,36)\",\"ticks\":\"outside\"},\"colorscale\":[[0.0,\"#440154\"],[0.1111111111111111,\"#482878\"],[0.2222222222222222,\"#3e4989\"],[0.3333333333333333,\"#31688e\"],[0.4444444444444444,\"#26828e\"],[0.5555555555555556,\"#1f9e89\"],[0.6666666666666666,\"#35b779\"],[0.7777777777777778,\"#6ece58\"],[0.8888888888888888,\"#b5de2b\"],[1.0,\"#fde725\"]],\"type\":\"histogram2dcontour\"}],\"histogram2d\":[{\"colorbar\":{\"outlinewidth\":1,\"tickcolor\":\"rgb(36,36,36)\",\"ticks\":\"outside\"},\"colorscale\":[[0.0,\"#440154\"],[0.1111111111111111,\"#482878\"],[0.2222222222222222,\"#3e4989\"],[0.3333333333333333,\"#31688e\"],[0.4444444444444444,\"#26828e\"],[0.5555555555555556,\"#1f9e89\"],[0.6666666666666666,\"#35b779\"],[0.7777777777777778,\"#6ece58\"],[0.8888888888888888,\"#b5de2b\"],[1.0,\"#fde725\"]],\"type\":\"histogram2d\"}],\"histogram\":[{\"marker\":{\"line\":{\"color\":\"white\",\"width\":0.6}},\"type\":\"histogram\"}],\"mesh3d\":[{\"colorbar\":{\"outlinewidth\":1,\"tickcolor\":\"rgb(36,36,36)\",\"ticks\":\"outside\"},\"type\":\"mesh3d\"}],\"parcoords\":[{\"line\":{\"colorbar\":{\"outlinewidth\":1,\"tickcolor\":\"rgb(36,36,36)\",\"ticks\":\"outside\"}},\"type\":\"parcoords\"}],\"pie\":[{\"automargin\":true,\"type\":\"pie\"}],\"scatter3d\":[{\"line\":{\"colorbar\":{\"outlinewidth\":1,\"tickcolor\":\"rgb(36,36,36)\",\"ticks\":\"outside\"}},\"marker\":{\"colorbar\":{\"outlinewidth\":1,\"tickcolor\":\"rgb(36,36,36)\",\"ticks\":\"outside\"}},\"type\":\"scatter3d\"}],\"scattercarpet\":[{\"marker\":{\"colorbar\":{\"outlinewidth\":1,\"tickcolor\":\"rgb(36,36,36)\",\"ticks\":\"outside\"}},\"type\":\"scattercarpet\"}],\"scattergeo\":[{\"marker\":{\"colorbar\":{\"outlinewidth\":1,\"tickcolor\":\"rgb(36,36,36)\",\"ticks\":\"outside\"}},\"type\":\"scattergeo\"}],\"scattergl\":[{\"marker\":{\"colorbar\":{\"outlinewidth\":1,\"tickcolor\":\"rgb(36,36,36)\",\"ticks\":\"outside\"}},\"type\":\"scattergl\"}],\"scattermapbox\":[{\"marker\":{\"colorbar\":{\"outlinewidth\":1,\"tickcolor\":\"rgb(36,36,36)\",\"ticks\":\"outside\"}},\"type\":\"scattermapbox\"}],\"scatterpolargl\":[{\"marker\":{\"colorbar\":{\"outlinewidth\":1,\"tickcolor\":\"rgb(36,36,36)\",\"ticks\":\"outside\"}},\"type\":\"scatterpolargl\"}],\"scatterpolar\":[{\"marker\":{\"colorbar\":{\"outlinewidth\":1,\"tickcolor\":\"rgb(36,36,36)\",\"ticks\":\"outside\"}},\"type\":\"scatterpolar\"}],\"scatter\":[{\"fillpattern\":{\"fillmode\":\"overlay\",\"size\":10,\"solidity\":0.2},\"type\":\"scatter\"}],\"scatterternary\":[{\"marker\":{\"colorbar\":{\"outlinewidth\":1,\"tickcolor\":\"rgb(36,36,36)\",\"ticks\":\"outside\"}},\"type\":\"scatterternary\"}],\"surface\":[{\"colorbar\":{\"outlinewidth\":1,\"tickcolor\":\"rgb(36,36,36)\",\"ticks\":\"outside\"},\"colorscale\":[[0.0,\"#440154\"],[0.1111111111111111,\"#482878\"],[0.2222222222222222,\"#3e4989\"],[0.3333333333333333,\"#31688e\"],[0.4444444444444444,\"#26828e\"],[0.5555555555555556,\"#1f9e89\"],[0.6666666666666666,\"#35b779\"],[0.7777777777777778,\"#6ece58\"],[0.8888888888888888,\"#b5de2b\"],[1.0,\"#fde725\"]],\"type\":\"surface\"}],\"table\":[{\"cells\":{\"fill\":{\"color\":\"rgb(237,237,237)\"},\"line\":{\"color\":\"white\"}},\"header\":{\"fill\":{\"color\":\"rgb(217,217,217)\"},\"line\":{\"color\":\"white\"}},\"type\":\"table\"}]},\"layout\":{\"annotationdefaults\":{\"arrowhead\":0,\"arrowwidth\":1},\"autotypenumbers\":\"strict\",\"coloraxis\":{\"colorbar\":{\"outlinewidth\":1,\"tickcolor\":\"rgb(36,36,36)\",\"ticks\":\"outside\"}},\"colorscale\":{\"diverging\":[[0.0,\"rgb(103,0,31)\"],[0.1,\"rgb(178,24,43)\"],[0.2,\"rgb(214,96,77)\"],[0.3,\"rgb(244,165,130)\"],[0.4,\"rgb(253,219,199)\"],[0.5,\"rgb(247,247,247)\"],[0.6,\"rgb(209,229,240)\"],[0.7,\"rgb(146,197,222)\"],[0.8,\"rgb(67,147,195)\"],[0.9,\"rgb(33,102,172)\"],[1.0,\"rgb(5,48,97)\"]],\"sequential\":[[0.0,\"#440154\"],[0.1111111111111111,\"#482878\"],[0.2222222222222222,\"#3e4989\"],[0.3333333333333333,\"#31688e\"],[0.4444444444444444,\"#26828e\"],[0.5555555555555556,\"#1f9e89\"],[0.6666666666666666,\"#35b779\"],[0.7777777777777778,\"#6ece58\"],[0.8888888888888888,\"#b5de2b\"],[1.0,\"#fde725\"]],\"sequentialminus\":[[0.0,\"#440154\"],[0.1111111111111111,\"#482878\"],[0.2222222222222222,\"#3e4989\"],[0.3333333333333333,\"#31688e\"],[0.4444444444444444,\"#26828e\"],[0.5555555555555556,\"#1f9e89\"],[0.6666666666666666,\"#35b779\"],[0.7777777777777778,\"#6ece58\"],[0.8888888888888888,\"#b5de2b\"],[1.0,\"#fde725\"]]},\"colorway\":[\"#1F77B4\",\"#FF7F0E\",\"#2CA02C\",\"#D62728\",\"#9467BD\",\"#8C564B\",\"#E377C2\",\"#7F7F7F\",\"#BCBD22\",\"#17BECF\"],\"font\":{\"color\":\"rgb(36,36,36)\"},\"geo\":{\"bgcolor\":\"white\",\"lakecolor\":\"white\",\"landcolor\":\"white\",\"showlakes\":true,\"showland\":true,\"subunitcolor\":\"white\"},\"hoverlabel\":{\"align\":\"left\"},\"hovermode\":\"closest\",\"mapbox\":{\"style\":\"light\"},\"paper_bgcolor\":\"white\",\"plot_bgcolor\":\"white\",\"polar\":{\"angularaxis\":{\"gridcolor\":\"rgb(232,232,232)\",\"linecolor\":\"rgb(36,36,36)\",\"showgrid\":false,\"showline\":true,\"ticks\":\"outside\"},\"bgcolor\":\"white\",\"radialaxis\":{\"gridcolor\":\"rgb(232,232,232)\",\"linecolor\":\"rgb(36,36,36)\",\"showgrid\":false,\"showline\":true,\"ticks\":\"outside\"}},\"scene\":{\"xaxis\":{\"backgroundcolor\":\"white\",\"gridcolor\":\"rgb(232,232,232)\",\"gridwidth\":2,\"linecolor\":\"rgb(36,36,36)\",\"showbackground\":true,\"showgrid\":false,\"showline\":true,\"ticks\":\"outside\",\"zeroline\":false,\"zerolinecolor\":\"rgb(36,36,36)\"},\"yaxis\":{\"backgroundcolor\":\"white\",\"gridcolor\":\"rgb(232,232,232)\",\"gridwidth\":2,\"linecolor\":\"rgb(36,36,36)\",\"showbackground\":true,\"showgrid\":false,\"showline\":true,\"ticks\":\"outside\",\"zeroline\":false,\"zerolinecolor\":\"rgb(36,36,36)\"},\"zaxis\":{\"backgroundcolor\":\"white\",\"gridcolor\":\"rgb(232,232,232)\",\"gridwidth\":2,\"linecolor\":\"rgb(36,36,36)\",\"showbackground\":true,\"showgrid\":false,\"showline\":true,\"ticks\":\"outside\",\"zeroline\":false,\"zerolinecolor\":\"rgb(36,36,36)\"}},\"shapedefaults\":{\"fillcolor\":\"black\",\"line\":{\"width\":0},\"opacity\":0.3},\"ternary\":{\"aaxis\":{\"gridcolor\":\"rgb(232,232,232)\",\"linecolor\":\"rgb(36,36,36)\",\"showgrid\":false,\"showline\":true,\"ticks\":\"outside\"},\"baxis\":{\"gridcolor\":\"rgb(232,232,232)\",\"linecolor\":\"rgb(36,36,36)\",\"showgrid\":false,\"showline\":true,\"ticks\":\"outside\"},\"bgcolor\":\"white\",\"caxis\":{\"gridcolor\":\"rgb(232,232,232)\",\"linecolor\":\"rgb(36,36,36)\",\"showgrid\":false,\"showline\":true,\"ticks\":\"outside\"}},\"title\":{\"x\":0.05},\"xaxis\":{\"automargin\":true,\"gridcolor\":\"rgb(232,232,232)\",\"linecolor\":\"rgb(36,36,36)\",\"showgrid\":false,\"showline\":true,\"ticks\":\"outside\",\"title\":{\"standoff\":15},\"zeroline\":false,\"zerolinecolor\":\"rgb(36,36,36)\"},\"yaxis\":{\"automargin\":true,\"gridcolor\":\"rgb(232,232,232)\",\"linecolor\":\"rgb(36,36,36)\",\"showgrid\":false,\"showline\":true,\"ticks\":\"outside\",\"title\":{\"standoff\":15},\"zeroline\":false,\"zerolinecolor\":\"rgb(36,36,36)\"}}},\"title\":{\"text\":\"Val Accuracy\",\"y\":0.9,\"x\":0.5,\"xanchor\":\"center\",\"yanchor\":\"top\"},\"xaxis\":{\"title\":{\"text\":\"Epochs\"}},\"yaxis\":{\"title\":{\"text\":\"Val Accuracy\"}}},                        {\"responsive\": true}                    ).then(function(){\n",
              "                            \n",
              "var gd = document.getElementById('ae9e462b-49b4-4c31-9822-9a2ff14ce4ad');\n",
              "var x = new MutationObserver(function (mutations, observer) {{\n",
              "        var display = window.getComputedStyle(gd).display;\n",
              "        if (!display || display === 'none') {{\n",
              "            console.log([gd, 'removed!']);\n",
              "            Plotly.purge(gd);\n",
              "            observer.disconnect();\n",
              "        }}\n",
              "}});\n",
              "\n",
              "// Listen for the removal of the full notebook cells\n",
              "var notebookContainer = gd.closest('#notebook-container');\n",
              "if (notebookContainer) {{\n",
              "    x.observe(notebookContainer, {childList: true});\n",
              "}}\n",
              "\n",
              "// Listen for the clearing of the current output cell\n",
              "var outputEl = gd.closest('.output');\n",
              "if (outputEl) {{\n",
              "    x.observe(outputEl, {childList: true});\n",
              "}}\n",
              "\n",
              "                        })                };                            </script>        </div>\n",
              "</body>\n",
              "</html>"
            ]
          },
          "metadata": {}
        }
      ],
      "source": [
        "# Accuracy Graph\n",
        "fig = go.Figure()\n",
        "fig.add_trace(go.Scatter(y= history.history[\"accuracy\"],\n",
        "                    mode='lines',\n",
        "                    name='lines'))\n",
        "\n",
        "fig.update_layout(\n",
        "    template=\"simple_white\",\n",
        "    xaxis_title=\"Epochs\",\n",
        "    yaxis_title=\"Val Accuracy\",\n",
        "\n",
        "title={\n",
        "    'text': \"Val Accuracy\",\n",
        "    'y':0.9,\n",
        "    'x':0.5,\n",
        "    'xanchor': 'center',\n",
        "    'yanchor': 'top'})\n",
        "\n",
        "fig.show()"
      ]
    },
    {
      "cell_type": "code",
      "execution_count": null,
      "metadata": {
        "colab": {
          "base_uri": "https://localhost:8080/",
          "height": 542
        },
        "id": "hW6Bj8S4iQTB",
        "outputId": "0f8f6fb5-b023-4bcd-bca0-01408f5ed50e"
      },
      "outputs": [
        {
          "output_type": "display_data",
          "data": {
            "text/html": [
              "<html>\n",
              "<head><meta charset=\"utf-8\" /></head>\n",
              "<body>\n",
              "    <div>            <script src=\"https://cdnjs.cloudflare.com/ajax/libs/mathjax/2.7.5/MathJax.js?config=TeX-AMS-MML_SVG\"></script><script type=\"text/javascript\">if (window.MathJax && window.MathJax.Hub && window.MathJax.Hub.Config) {window.MathJax.Hub.Config({SVG: {font: \"STIX-Web\"}});}</script>                <script type=\"text/javascript\">window.PlotlyConfig = {MathJaxConfig: 'local'};</script>\n",
              "        <script src=\"https://cdn.plot.ly/plotly-2.18.2.min.js\"></script>                <div id=\"821d18f0-2d7b-4abd-856e-97b3dd3b9014\" class=\"plotly-graph-div\" style=\"height:525px; width:100%;\"></div>            <script type=\"text/javascript\">                                    window.PLOTLYENV=window.PLOTLYENV || {};                                    if (document.getElementById(\"821d18f0-2d7b-4abd-856e-97b3dd3b9014\")) {                    Plotly.newPlot(                        \"821d18f0-2d7b-4abd-856e-97b3dd3b9014\",                        [{\"mode\":\"lines\",\"name\":\"lines\",\"y\":[1.790966272354126,0.9108190536499023,0.6490458846092224,0.6100414395332336,0.5954231023788452,0.5755683779716492,0.5478610396385193,0.5501659512519836,0.5541136264801025,0.5534653663635254,0.5439900755882263,0.561143159866333,0.5402215123176575,0.5368168354034424,0.5206890106201172,0.5348838567733765,0.5393368005752563,0.5427908301353455,0.5314334630966187,0.5010049343109131,0.5035920143127441,0.5115930438041687,0.5001078248023987,0.49408209323883057,0.4950655698776245,0.5227710604667664,0.49455884099006653,0.5353745818138123,0.5375082492828369,0.5103699564933777,0.49505946040153503,0.4950902760028839,0.5522581934928894,0.5745919942855835,0.5350372195243835,0.5159419775009155,0.4976099729537964,0.6573333144187927,0.6434642672538757,0.6828019022941589,0.594305694103241,0.5767813324928284,0.5596267580986023,0.5491399168968201,0.5499392747879028,0.5409359931945801,0.5344436764717102,0.5184417366981506,0.5107247829437256,0.4973629415035248],\"type\":\"scatter\"}],                        {\"template\":{\"data\":{\"barpolar\":[{\"marker\":{\"line\":{\"color\":\"white\",\"width\":0.5},\"pattern\":{\"fillmode\":\"overlay\",\"size\":10,\"solidity\":0.2}},\"type\":\"barpolar\"}],\"bar\":[{\"error_x\":{\"color\":\"rgb(36,36,36)\"},\"error_y\":{\"color\":\"rgb(36,36,36)\"},\"marker\":{\"line\":{\"color\":\"white\",\"width\":0.5},\"pattern\":{\"fillmode\":\"overlay\",\"size\":10,\"solidity\":0.2}},\"type\":\"bar\"}],\"carpet\":[{\"aaxis\":{\"endlinecolor\":\"rgb(36,36,36)\",\"gridcolor\":\"white\",\"linecolor\":\"white\",\"minorgridcolor\":\"white\",\"startlinecolor\":\"rgb(36,36,36)\"},\"baxis\":{\"endlinecolor\":\"rgb(36,36,36)\",\"gridcolor\":\"white\",\"linecolor\":\"white\",\"minorgridcolor\":\"white\",\"startlinecolor\":\"rgb(36,36,36)\"},\"type\":\"carpet\"}],\"choropleth\":[{\"colorbar\":{\"outlinewidth\":1,\"tickcolor\":\"rgb(36,36,36)\",\"ticks\":\"outside\"},\"type\":\"choropleth\"}],\"contourcarpet\":[{\"colorbar\":{\"outlinewidth\":1,\"tickcolor\":\"rgb(36,36,36)\",\"ticks\":\"outside\"},\"type\":\"contourcarpet\"}],\"contour\":[{\"colorbar\":{\"outlinewidth\":1,\"tickcolor\":\"rgb(36,36,36)\",\"ticks\":\"outside\"},\"colorscale\":[[0.0,\"#440154\"],[0.1111111111111111,\"#482878\"],[0.2222222222222222,\"#3e4989\"],[0.3333333333333333,\"#31688e\"],[0.4444444444444444,\"#26828e\"],[0.5555555555555556,\"#1f9e89\"],[0.6666666666666666,\"#35b779\"],[0.7777777777777778,\"#6ece58\"],[0.8888888888888888,\"#b5de2b\"],[1.0,\"#fde725\"]],\"type\":\"contour\"}],\"heatmapgl\":[{\"colorbar\":{\"outlinewidth\":1,\"tickcolor\":\"rgb(36,36,36)\",\"ticks\":\"outside\"},\"colorscale\":[[0.0,\"#440154\"],[0.1111111111111111,\"#482878\"],[0.2222222222222222,\"#3e4989\"],[0.3333333333333333,\"#31688e\"],[0.4444444444444444,\"#26828e\"],[0.5555555555555556,\"#1f9e89\"],[0.6666666666666666,\"#35b779\"],[0.7777777777777778,\"#6ece58\"],[0.8888888888888888,\"#b5de2b\"],[1.0,\"#fde725\"]],\"type\":\"heatmapgl\"}],\"heatmap\":[{\"colorbar\":{\"outlinewidth\":1,\"tickcolor\":\"rgb(36,36,36)\",\"ticks\":\"outside\"},\"colorscale\":[[0.0,\"#440154\"],[0.1111111111111111,\"#482878\"],[0.2222222222222222,\"#3e4989\"],[0.3333333333333333,\"#31688e\"],[0.4444444444444444,\"#26828e\"],[0.5555555555555556,\"#1f9e89\"],[0.6666666666666666,\"#35b779\"],[0.7777777777777778,\"#6ece58\"],[0.8888888888888888,\"#b5de2b\"],[1.0,\"#fde725\"]],\"type\":\"heatmap\"}],\"histogram2dcontour\":[{\"colorbar\":{\"outlinewidth\":1,\"tickcolor\":\"rgb(36,36,36)\",\"ticks\":\"outside\"},\"colorscale\":[[0.0,\"#440154\"],[0.1111111111111111,\"#482878\"],[0.2222222222222222,\"#3e4989\"],[0.3333333333333333,\"#31688e\"],[0.4444444444444444,\"#26828e\"],[0.5555555555555556,\"#1f9e89\"],[0.6666666666666666,\"#35b779\"],[0.7777777777777778,\"#6ece58\"],[0.8888888888888888,\"#b5de2b\"],[1.0,\"#fde725\"]],\"type\":\"histogram2dcontour\"}],\"histogram2d\":[{\"colorbar\":{\"outlinewidth\":1,\"tickcolor\":\"rgb(36,36,36)\",\"ticks\":\"outside\"},\"colorscale\":[[0.0,\"#440154\"],[0.1111111111111111,\"#482878\"],[0.2222222222222222,\"#3e4989\"],[0.3333333333333333,\"#31688e\"],[0.4444444444444444,\"#26828e\"],[0.5555555555555556,\"#1f9e89\"],[0.6666666666666666,\"#35b779\"],[0.7777777777777778,\"#6ece58\"],[0.8888888888888888,\"#b5de2b\"],[1.0,\"#fde725\"]],\"type\":\"histogram2d\"}],\"histogram\":[{\"marker\":{\"line\":{\"color\":\"white\",\"width\":0.6}},\"type\":\"histogram\"}],\"mesh3d\":[{\"colorbar\":{\"outlinewidth\":1,\"tickcolor\":\"rgb(36,36,36)\",\"ticks\":\"outside\"},\"type\":\"mesh3d\"}],\"parcoords\":[{\"line\":{\"colorbar\":{\"outlinewidth\":1,\"tickcolor\":\"rgb(36,36,36)\",\"ticks\":\"outside\"}},\"type\":\"parcoords\"}],\"pie\":[{\"automargin\":true,\"type\":\"pie\"}],\"scatter3d\":[{\"line\":{\"colorbar\":{\"outlinewidth\":1,\"tickcolor\":\"rgb(36,36,36)\",\"ticks\":\"outside\"}},\"marker\":{\"colorbar\":{\"outlinewidth\":1,\"tickcolor\":\"rgb(36,36,36)\",\"ticks\":\"outside\"}},\"type\":\"scatter3d\"}],\"scattercarpet\":[{\"marker\":{\"colorbar\":{\"outlinewidth\":1,\"tickcolor\":\"rgb(36,36,36)\",\"ticks\":\"outside\"}},\"type\":\"scattercarpet\"}],\"scattergeo\":[{\"marker\":{\"colorbar\":{\"outlinewidth\":1,\"tickcolor\":\"rgb(36,36,36)\",\"ticks\":\"outside\"}},\"type\":\"scattergeo\"}],\"scattergl\":[{\"marker\":{\"colorbar\":{\"outlinewidth\":1,\"tickcolor\":\"rgb(36,36,36)\",\"ticks\":\"outside\"}},\"type\":\"scattergl\"}],\"scattermapbox\":[{\"marker\":{\"colorbar\":{\"outlinewidth\":1,\"tickcolor\":\"rgb(36,36,36)\",\"ticks\":\"outside\"}},\"type\":\"scattermapbox\"}],\"scatterpolargl\":[{\"marker\":{\"colorbar\":{\"outlinewidth\":1,\"tickcolor\":\"rgb(36,36,36)\",\"ticks\":\"outside\"}},\"type\":\"scatterpolargl\"}],\"scatterpolar\":[{\"marker\":{\"colorbar\":{\"outlinewidth\":1,\"tickcolor\":\"rgb(36,36,36)\",\"ticks\":\"outside\"}},\"type\":\"scatterpolar\"}],\"scatter\":[{\"fillpattern\":{\"fillmode\":\"overlay\",\"size\":10,\"solidity\":0.2},\"type\":\"scatter\"}],\"scatterternary\":[{\"marker\":{\"colorbar\":{\"outlinewidth\":1,\"tickcolor\":\"rgb(36,36,36)\",\"ticks\":\"outside\"}},\"type\":\"scatterternary\"}],\"surface\":[{\"colorbar\":{\"outlinewidth\":1,\"tickcolor\":\"rgb(36,36,36)\",\"ticks\":\"outside\"},\"colorscale\":[[0.0,\"#440154\"],[0.1111111111111111,\"#482878\"],[0.2222222222222222,\"#3e4989\"],[0.3333333333333333,\"#31688e\"],[0.4444444444444444,\"#26828e\"],[0.5555555555555556,\"#1f9e89\"],[0.6666666666666666,\"#35b779\"],[0.7777777777777778,\"#6ece58\"],[0.8888888888888888,\"#b5de2b\"],[1.0,\"#fde725\"]],\"type\":\"surface\"}],\"table\":[{\"cells\":{\"fill\":{\"color\":\"rgb(237,237,237)\"},\"line\":{\"color\":\"white\"}},\"header\":{\"fill\":{\"color\":\"rgb(217,217,217)\"},\"line\":{\"color\":\"white\"}},\"type\":\"table\"}]},\"layout\":{\"annotationdefaults\":{\"arrowhead\":0,\"arrowwidth\":1},\"autotypenumbers\":\"strict\",\"coloraxis\":{\"colorbar\":{\"outlinewidth\":1,\"tickcolor\":\"rgb(36,36,36)\",\"ticks\":\"outside\"}},\"colorscale\":{\"diverging\":[[0.0,\"rgb(103,0,31)\"],[0.1,\"rgb(178,24,43)\"],[0.2,\"rgb(214,96,77)\"],[0.3,\"rgb(244,165,130)\"],[0.4,\"rgb(253,219,199)\"],[0.5,\"rgb(247,247,247)\"],[0.6,\"rgb(209,229,240)\"],[0.7,\"rgb(146,197,222)\"],[0.8,\"rgb(67,147,195)\"],[0.9,\"rgb(33,102,172)\"],[1.0,\"rgb(5,48,97)\"]],\"sequential\":[[0.0,\"#440154\"],[0.1111111111111111,\"#482878\"],[0.2222222222222222,\"#3e4989\"],[0.3333333333333333,\"#31688e\"],[0.4444444444444444,\"#26828e\"],[0.5555555555555556,\"#1f9e89\"],[0.6666666666666666,\"#35b779\"],[0.7777777777777778,\"#6ece58\"],[0.8888888888888888,\"#b5de2b\"],[1.0,\"#fde725\"]],\"sequentialminus\":[[0.0,\"#440154\"],[0.1111111111111111,\"#482878\"],[0.2222222222222222,\"#3e4989\"],[0.3333333333333333,\"#31688e\"],[0.4444444444444444,\"#26828e\"],[0.5555555555555556,\"#1f9e89\"],[0.6666666666666666,\"#35b779\"],[0.7777777777777778,\"#6ece58\"],[0.8888888888888888,\"#b5de2b\"],[1.0,\"#fde725\"]]},\"colorway\":[\"#1F77B4\",\"#FF7F0E\",\"#2CA02C\",\"#D62728\",\"#9467BD\",\"#8C564B\",\"#E377C2\",\"#7F7F7F\",\"#BCBD22\",\"#17BECF\"],\"font\":{\"color\":\"rgb(36,36,36)\"},\"geo\":{\"bgcolor\":\"white\",\"lakecolor\":\"white\",\"landcolor\":\"white\",\"showlakes\":true,\"showland\":true,\"subunitcolor\":\"white\"},\"hoverlabel\":{\"align\":\"left\"},\"hovermode\":\"closest\",\"mapbox\":{\"style\":\"light\"},\"paper_bgcolor\":\"white\",\"plot_bgcolor\":\"white\",\"polar\":{\"angularaxis\":{\"gridcolor\":\"rgb(232,232,232)\",\"linecolor\":\"rgb(36,36,36)\",\"showgrid\":false,\"showline\":true,\"ticks\":\"outside\"},\"bgcolor\":\"white\",\"radialaxis\":{\"gridcolor\":\"rgb(232,232,232)\",\"linecolor\":\"rgb(36,36,36)\",\"showgrid\":false,\"showline\":true,\"ticks\":\"outside\"}},\"scene\":{\"xaxis\":{\"backgroundcolor\":\"white\",\"gridcolor\":\"rgb(232,232,232)\",\"gridwidth\":2,\"linecolor\":\"rgb(36,36,36)\",\"showbackground\":true,\"showgrid\":false,\"showline\":true,\"ticks\":\"outside\",\"zeroline\":false,\"zerolinecolor\":\"rgb(36,36,36)\"},\"yaxis\":{\"backgroundcolor\":\"white\",\"gridcolor\":\"rgb(232,232,232)\",\"gridwidth\":2,\"linecolor\":\"rgb(36,36,36)\",\"showbackground\":true,\"showgrid\":false,\"showline\":true,\"ticks\":\"outside\",\"zeroline\":false,\"zerolinecolor\":\"rgb(36,36,36)\"},\"zaxis\":{\"backgroundcolor\":\"white\",\"gridcolor\":\"rgb(232,232,232)\",\"gridwidth\":2,\"linecolor\":\"rgb(36,36,36)\",\"showbackground\":true,\"showgrid\":false,\"showline\":true,\"ticks\":\"outside\",\"zeroline\":false,\"zerolinecolor\":\"rgb(36,36,36)\"}},\"shapedefaults\":{\"fillcolor\":\"black\",\"line\":{\"width\":0},\"opacity\":0.3},\"ternary\":{\"aaxis\":{\"gridcolor\":\"rgb(232,232,232)\",\"linecolor\":\"rgb(36,36,36)\",\"showgrid\":false,\"showline\":true,\"ticks\":\"outside\"},\"baxis\":{\"gridcolor\":\"rgb(232,232,232)\",\"linecolor\":\"rgb(36,36,36)\",\"showgrid\":false,\"showline\":true,\"ticks\":\"outside\"},\"bgcolor\":\"white\",\"caxis\":{\"gridcolor\":\"rgb(232,232,232)\",\"linecolor\":\"rgb(36,36,36)\",\"showgrid\":false,\"showline\":true,\"ticks\":\"outside\"}},\"title\":{\"x\":0.05},\"xaxis\":{\"automargin\":true,\"gridcolor\":\"rgb(232,232,232)\",\"linecolor\":\"rgb(36,36,36)\",\"showgrid\":false,\"showline\":true,\"ticks\":\"outside\",\"title\":{\"standoff\":15},\"zeroline\":false,\"zerolinecolor\":\"rgb(36,36,36)\"},\"yaxis\":{\"automargin\":true,\"gridcolor\":\"rgb(232,232,232)\",\"linecolor\":\"rgb(36,36,36)\",\"showgrid\":false,\"showline\":true,\"ticks\":\"outside\",\"title\":{\"standoff\":15},\"zeroline\":false,\"zerolinecolor\":\"rgb(36,36,36)\"}}},\"title\":{\"text\":\"Val Loss\",\"y\":0.9,\"x\":0.5,\"xanchor\":\"center\",\"yanchor\":\"top\"},\"xaxis\":{\"title\":{\"text\":\"Epochs\"}},\"yaxis\":{\"title\":{\"text\":\"Val Loss\"}}},                        {\"responsive\": true}                    ).then(function(){\n",
              "                            \n",
              "var gd = document.getElementById('821d18f0-2d7b-4abd-856e-97b3dd3b9014');\n",
              "var x = new MutationObserver(function (mutations, observer) {{\n",
              "        var display = window.getComputedStyle(gd).display;\n",
              "        if (!display || display === 'none') {{\n",
              "            console.log([gd, 'removed!']);\n",
              "            Plotly.purge(gd);\n",
              "            observer.disconnect();\n",
              "        }}\n",
              "}});\n",
              "\n",
              "// Listen for the removal of the full notebook cells\n",
              "var notebookContainer = gd.closest('#notebook-container');\n",
              "if (notebookContainer) {{\n",
              "    x.observe(notebookContainer, {childList: true});\n",
              "}}\n",
              "\n",
              "// Listen for the clearing of the current output cell\n",
              "var outputEl = gd.closest('.output');\n",
              "if (outputEl) {{\n",
              "    x.observe(outputEl, {childList: true});\n",
              "}}\n",
              "\n",
              "                        })                };                            </script>        </div>\n",
              "</body>\n",
              "</html>"
            ]
          },
          "metadata": {}
        }
      ],
      "source": [
        "# Loss Graph\n",
        "fig = go.Figure()\n",
        "fig.add_trace(go.Scatter(y= history.history[\"loss\"],\n",
        "                    mode='lines',\n",
        "                    name='lines'))\n",
        "\n",
        "fig.update_layout(\n",
        "    template=\"simple_white\",\n",
        "    xaxis_title=\"Epochs\",\n",
        "    yaxis_title=\"Val Loss\",\n",
        "\n",
        "title={\n",
        "    'text': \"Val Loss\",\n",
        "    'y':0.9,\n",
        "    'x':0.5,\n",
        "    'xanchor': 'center',\n",
        "    'yanchor': 'top'})\n",
        "\n",
        "fig.show()"
      ]
    },
    {
      "cell_type": "code",
      "execution_count": null,
      "metadata": {
        "colab": {
          "base_uri": "https://localhost:8080/"
        },
        "id": "xfl_JBTYAYwg",
        "outputId": "2e41f166-9deb-4e57-d5a3-709d784f9248"
      },
      "outputs": [
        {
          "output_type": "stream",
          "name": "stdout",
          "text": [
            "7/7 [==============================] - 3s 21ms/step\n"
          ]
        }
      ],
      "source": [
        "# Prediction\n",
        "test_preds = model.predict(X_test.reshape(-1, 1, 1440))"
      ]
    },
    {
      "cell_type": "code",
      "execution_count": null,
      "metadata": {
        "colab": {
          "base_uri": "https://localhost:8080/"
        },
        "id": "R_Nyw-fbAq6v",
        "outputId": "e35867b8-4f39-4341-a91b-ca201ab21870"
      },
      "outputs": [
        {
          "output_type": "execute_result",
          "data": {
            "text/plain": [
              "0.6747572815533981"
            ]
          },
          "metadata": {},
          "execution_count": 18
        }
      ],
      "source": [
        "# accuracy\n",
        "accuracy_score(y_test, np.rint(test_preds))"
      ]
    },
    {
      "cell_type": "code",
      "execution_count": null,
      "metadata": {
        "colab": {
          "base_uri": "https://localhost:8080/"
        },
        "id": "Vp5IguWr6TKc",
        "outputId": "7aa33f9d-f5f1-477b-e12e-4fc7780edd24"
      },
      "outputs": [
        {
          "output_type": "execute_result",
          "data": {
            "text/plain": [
              "0.6747572815533981"
            ]
          },
          "metadata": {},
          "execution_count": 19
        }
      ],
      "source": [
        "recall_score(y_test, np.rint(test_preds), average='micro')"
      ]
    },
    {
      "cell_type": "code",
      "execution_count": null,
      "metadata": {
        "colab": {
          "base_uri": "https://localhost:8080/"
        },
        "id": "QNCHMQyk7RhP",
        "outputId": "0b1eb867-bfce-46f6-e56e-ce518b3b3e0f"
      },
      "outputs": [
        {
          "output_type": "execute_result",
          "data": {
            "text/plain": [
              "0.6747572815533981"
            ]
          },
          "metadata": {},
          "execution_count": 20
        }
      ],
      "source": [
        "precision_score(y_test, np.rint(test_preds), average='micro')"
      ]
    },
    {
      "cell_type": "code",
      "execution_count": null,
      "metadata": {
        "colab": {
          "base_uri": "https://localhost:8080/",
          "height": 452
        },
        "id": "lO-jDjsY67lf",
        "outputId": "fe011861-84b4-4c97-8aa5-12cda7188304"
      },
      "outputs": [
        {
          "output_type": "execute_result",
          "data": {
            "text/plain": [
              "<Axes: >"
            ]
          },
          "metadata": {},
          "execution_count": 21
        },
        {
          "output_type": "display_data",
          "data": {
            "text/plain": [
              "<Figure size 640x480 with 2 Axes>"
            ],
            "image/png": "[encoded data removed]"
          },
          "metadata": {}
        }
      ],
      "source": [
        "cf_matrix = confusion_matrix(y_test, np.rint(test_preds))\n",
        "sns.heatmap(cf_matrix/np.sum(cf_matrix), annot=True,\n",
        "            fmt='.2%', cmap='Blues',  xticklabels=[\"Not Depressed\", \"Depressed\"], yticklabels=[\"Not Depressed\", \"Depressed\"])"
      ]
    }
  ],
  "metadata": {
    "colab": {
      "provenance": []
    },
    "kernelspec": {
      "display_name": "Python 3 (ipykernel)",
      "language": "python",
      "name": "python3"
    },
    "language_info": {
      "codemirror_mode": {
        "name": "ipython",
        "version": 3
      },
      "file_extension": ".py",
      "mimetype": "text/x-python",
      "name": "python",
      "nbconvert_exporter": "python",
      "pygments_lexer": "ipython3",
      "version": "3.9.6"
    }
  },
  "nbformat": 4,
  "nbformat_minor": 0
}